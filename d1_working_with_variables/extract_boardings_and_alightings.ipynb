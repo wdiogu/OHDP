{
 "cells": [
  {
   "cell_type": "code",
   "execution_count": 109,
   "metadata": {
    "show_input": true
   },
   "outputs": [
    {
     "name": "stdout",
     "output_type": "stream",
     "text": [
      "TRANSIT_SEGMENT\n",
      "TRANSIT_SEGMENT\n",
      "TRANSIT_SEGMENT\n",
      "TRANSIT_SEGMENT\n",
      "TRANSIT_SEGMENT\n",
      "TRANSIT_SEGMENT\n"
     ]
    }
   ],
   "source": [
    "_m = inro.modeller\n",
    "attribs = _m.Modeller().scenario.extra_attributes()\n",
    "scenario_number = 2\n",
    "scenario = _m.Modeller().emmebank.scenario(scenario_number)\n",
    "\n",
    "for att in attribs:\n",
    "    ex_att =scenario.extra_attribute(att)\n",
    "    if ex_att.type == \"TRANSIT_SEGMENT\":\n",
    "        ex_att_type = ex_att.type\n",
    "        print(ex_att_type)\n",
    "    "
   ]
  },
  {
   "cell_type": "code",
   "execution_count": 110,
   "metadata": {},
   "outputs": [
    {
     "ename": "KeyboardInterrupt",
     "evalue": "",
     "output_type": "error",
     "traceback": [
      "\u001b[1;31m---------------------------------------------------------------------------\u001b[0m",
      "\u001b[1;31mKeyboardInterrupt\u001b[0m                         Traceback (most recent call last)",
      "\u001b[1;32m<ipython-input-110-738d7d5edff5>\u001b[0m in \u001b[0;36m<module>\u001b[1;34m\u001b[0m\n\u001b[1;32m----> 1\u001b[1;33m \u001b[0mnetwork\u001b[0m \u001b[1;33m=\u001b[0m \u001b[0mscenario\u001b[0m\u001b[1;33m.\u001b[0m\u001b[0mget_network\u001b[0m\u001b[1;33m(\u001b[0m\u001b[1;33m)\u001b[0m\u001b[1;33m\u001b[0m\u001b[1;33m\u001b[0m\u001b[0m\n\u001b[0m\u001b[0;32m      2\u001b[0m \u001b[1;32mfor\u001b[0m \u001b[0msegment\u001b[0m \u001b[1;32min\u001b[0m \u001b[0mnetwork\u001b[0m\u001b[1;33m.\u001b[0m\u001b[0mtransit_segments\u001b[0m\u001b[1;33m(\u001b[0m\u001b[1;33m)\u001b[0m\u001b[1;33m:\u001b[0m\u001b[1;33m\u001b[0m\u001b[1;33m\u001b[0m\u001b[0m\n\u001b[0;32m      3\u001b[0m     \u001b[1;32mfor\u001b[0m \u001b[0matt\u001b[0m \u001b[1;32min\u001b[0m \u001b[0mattribs\u001b[0m\u001b[1;33m:\u001b[0m\u001b[1;33m\u001b[0m\u001b[1;33m\u001b[0m\u001b[0m\n\u001b[0;32m      4\u001b[0m         \u001b[0mex_att\u001b[0m \u001b[1;33m=\u001b[0m\u001b[0mscenario\u001b[0m\u001b[1;33m.\u001b[0m\u001b[0mextra_attribute\u001b[0m\u001b[1;33m(\u001b[0m\u001b[0matt\u001b[0m\u001b[1;33m)\u001b[0m\u001b[1;33m\u001b[0m\u001b[1;33m\u001b[0m\u001b[0m\n",
      "\u001b[1;32mC:\\Program Files\\INRO\\Emme\\Emme 4\\Emme-4.6.0\\Python37\\lib\\site-packages\\inro\\emme\\database\\scenario.pyc\u001b[0m in \u001b[0;36mget_network\u001b[1;34m(self, tracker)\u001b[0m\n",
      "\u001b[1;32mC:\\Program Files\\INRO\\Emme\\Emme 4\\Emme-4.6.0\\Python37\\lib\\site-packages\\inro\\emme\\database\\scenario.pyc\u001b[0m in \u001b[0;36mget_partial_network\u001b[1;34m(self, element_types, include_attributes, tracker)\u001b[0m\n",
      "\u001b[1;32mC:\\Program Files\\INRO\\Emme\\Emme 4\\Emme-4.6.0\\Python37\\lib\\site-packages\\inro\\emme\\database\\scenario.pyc\u001b[0m in \u001b[0;36m_read_segment_attributes\u001b[1;34m(self, network, mapping)\u001b[0m\n",
      "\u001b[1;32mC:\\Program Files\\INRO\\Emme\\Emme 4\\Emme-4.6.0\\Python37\\lib\\site-packages\\inro\\emme\\database\\scenario.pyc\u001b[0m in \u001b[0;36m_read_attributes\u001b[1;34m(mapping, source, dest)\u001b[0m\n",
      "\u001b[1;32mC:\\Program Files\\INRO\\Emme\\Emme 4\\Emme-4.6.0\\Python37\\lib\\site-packages\\inro\\emme\\database\\network.pyc\u001b[0m in \u001b[0;36m__getitem__\u001b[1;34m(self, item)\u001b[0m\n",
      "\u001b[1;32mC:\\Program Files\\INRO\\Emme\\Emme 4\\Emme-4.6.0\\Python37\\lib\\site-packages\\inro\\emme\\core\\property.pyc\u001b[0m in \u001b[0;36mget\u001b[1;34m(self)\u001b[0m\n",
      "\u001b[1;32mC:\\Program Files\\INRO\\Emme\\Emme 4\\Emme-4.6.0\\Python37\\lib\\site-packages\\inro\\emme\\core\\property.pyc\u001b[0m in \u001b[0;36mget\u001b[1;34m(value)\u001b[0m\n",
      "\u001b[1;32mC:\\Program Files\\INRO\\Emme\\Emme 4\\Emme-4.6.0\\Python37\\lib\\site-packages\\inro\\emme\\core\\utilities.pyc\u001b[0m in \u001b[0;36mget_convert\u001b[1;34m(value)\u001b[0m\n",
      "\u001b[1;31mKeyboardInterrupt\u001b[0m: "
     ]
    }
   ],
   "source": [
    "network = scenario.get_network()\n",
    "for segment in network.transit_segments():\n",
    "    for link in network.links():\n",
    "        print(\"| \", segment.id, \" |\", link.id)\n",
    "        break"
   ]
  },
  {
   "cell_type": "code",
   "execution_count": 193,
   "metadata": {},
   "outputs": [
    {
     "name": "stdout",
     "output_type": "stream",
     "text": [
      "6950.359188437462\n"
     ]
    }
   ],
   "source": [
    "_m = inro.modeller\n",
    "scenario_number = 2\n",
    "scenario = _m.Modeller().emmebank.scenario(scenario_number)\n",
    "network = scenario.get_network()\n",
    "\n",
    "transit_segments = network.transit_segments()\n",
    "nodes = network.regular_nodes()\n",
    "\n",
    "# for segment in transit_segments:\n",
    "#     seg_id = segment.id\n",
    "#     seg_i = segment.i_node\n",
    "#     seg_j = segment.j_node\n",
    "#     seg_data1 = segment.data1\n",
    "#     seg_data2 = segment.data2\n",
    "#     seg_data3 = segment.data3\n",
    "#     seg_baord = segment.transit_boardings\n",
    "#     print(seg_id, segment.loop_index)\n",
    "#     if segment.loop_index == 1:\n",
    "#         break\n",
    "\n",
    "# for node in nodes:\n",
    "#     if node[\"@stop\"] == 1:\n",
    "#         seg_out = node.outgoing_segments()\n",
    "#         for segs in seg_out:\n",
    "#             if segs is not None:\n",
    "#                 print(segs.id)\n",
    "\n",
    "boarding = 0\n",
    "ls = []\n",
    "for segment in transit_segments:\n",
    "    for node in nodes:\n",
    "        if node[\"@stop\"] >= 1:\n",
    "            boarding += segment[\"@boardings\"]\n",
    "            ls\n",
    "print(boarding)"
   ]
  },
  {
   "cell_type": "code",
   "execution_count": 206,
   "metadata": {},
   "outputs": [
    {
     "name": "stdout",
     "output_type": "stream",
     "text": [
      "10266 ::: GB96Ha-10266-0 ::: 307.17761850357056\n"
     ]
    }
   ],
   "source": [
    "_m = inro.modeller\n",
    "scenario_number = 2\n",
    "scenario = _m.Modeller().emmebank.scenario(scenario_number)\n",
    "network = scenario.get_network()\n",
    "\n",
    "transit_segments = network.transit_segments()\n",
    "regular_nodes = network.regular_nodes()\n",
    "\n",
    "for node in regular_nodes:\n",
    "    origin_nodes = node.outgoing_segments(include_hidden=True)\n",
    "    boardings = 0\n",
    "    segment = \"\"\n",
    "    for origin_node in origin_nodes:\n",
    "        boards_o = origin_node.transit_boardings\n",
    "        boardings += boards_o\n",
    "        segment = origin_node.id\n",
    "        \n",
    "    if boardings != 0:\n",
    "        print (node.id, \":::\", segment, \":::\", boardings)\n",
    "        break\n",
    "\n"
   ]
  },
  {
   "cell_type": "code",
   "execution_count": 213,
   "metadata": {},
   "outputs": [],
   "source": [
    "for node in regular_nodes:\n",
    "    origin_nodes = node.outgoing_segments(include_hidden=True)\n",
    "    for origin_node in origin_nodes:\n",
    "        if node.id == 10266:\n",
    "            print(origin_node.id)"
   ]
  }
 ],
 "metadata": {
  "kernelspec": {
   "display_name": "Python 3",
   "language": "python",
   "name": "python3"
  },
  "language_info": {
   "codemirror_mode": {
    "name": "ipython",
    "version": 3
   },
   "file_extension": ".py",
   "mimetype": "text/x-python",
   "name": "python",
   "nbconvert_exporter": "python",
   "pygments_lexer": "ipython3",
   "version": "3.7.6"
  },
  "modeller": {
   "desktop_app_port": "4242"
  }
 },
 "nbformat": 4,
 "nbformat_minor": 2
}
