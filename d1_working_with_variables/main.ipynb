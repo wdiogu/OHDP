{
 "cells": [
  {
   "cell_type": "code",
   "execution_count": 53,
   "metadata": {},
   "outputs": [
    {
     "data": {
      "text/plain": [
       "'i=10000,20000 or j=10000,20000 or i=97000,98000 or j=97000,98000'"
      ]
     },
     "execution_count": 53,
     "metadata": {},
     "output_type": "execute_result"
    }
   ],
   "source": [
    "WalkPerceptionList = ['1.8:i=10000,20000 or j=10000,20000 or i=97000,98000 or j=97000,98000 \\n3.534:i=20000,90000 or j=20000,90000 \\n1.14:type=101\\n2.26:i=0,1000 or j=0,1000\\n1.12:i=1000,7000 or j=1000,7000\\n1:mode=t and i=97000,98000 and j=97000,98000\\n0:i=9700,10000 or j=9700,10000']\n",
    "def ParsePerceptionString(index):\n",
    "    perceptionList = []\n",
    "    zoneValues = WalkPerceptionList[index].splitlines()\n",
    "    for zoneValue in zoneValues:\n",
    "        if zoneValue.isspace():\n",
    "            continue\n",
    "        parts = zoneValue.split(':')\n",
    "        if len(parts) < 2:\n",
    "            msg = 'Error parsing perception string'\n",
    "            msg += '. [%s]' % zoneValue\n",
    "            raise SyntaxError(msg)\n",
    "        strippedParts = [ item.strip() for item in parts ]\n",
    "        try:\n",
    "            perception = float(strippedParts[0])\n",
    "        except:\n",
    "            msg = 'Perception value must be a number'\n",
    "            msg += '. [%s]' % zoneValue\n",
    "            raise SyntaxError(msg)\n",
    "\n",
    "        try:\n",
    "            zone = str(strippedParts[1])\n",
    "        except:\n",
    "            msg = 'Filter value must be a string'\n",
    "            msg += '. [%s]' % zoneValue\n",
    "            raise SyntaxError(msg)\n",
    "\n",
    "        perceptionList.append(strippedParts[0:2])\n",
    "    return perceptionList[0][1]\n",
    "\n",
    "ParsePerceptionString(0)"
   ]
  },
  {
   "cell_type": "code",
   "execution_count": 1,
   "metadata": {},
   "outputs": [
    {
     "name": "stdout",
     "output_type": "stream",
     "text": [
      "@walkp1\n",
      "1.8\n"
     ]
    }
   ],
   "source": [
    "parameters = {\n",
    "    \"calculate_congested_ivtt_flag\": True,\n",
    "    \"node_logit_scale\": True,\n",
    "    \"effective_headway_attribute\": \"@ehdw1\",\n",
    "    \"effective_headway_slope\": 0.165,\n",
    "    \"headway_fraction_attribute\": \"@frac1\",\n",
    "    \"iterations\": 100,\n",
    "    \"norm_gap\": 0,\n",
    "    \"rel_gap\": 0,\n",
    "    \"scenario_number\": 1,\n",
    "    \"walk_speed\": 0,\n",
    "    \"transit_classes\": [\n",
    "        {\n",
    "            \"name\": \"transit_class_1\",\n",
    "            \"board_penalty_matrix\": \"mf0\",\n",
    "            \"board_penalty_perception\": 1,\n",
    "            \"congestion_matrix\": \"mf0\",\n",
    "            \"demand_matrix\": \"mf0\",\n",
    "            \"fare_matrix\": \"mf0\",\n",
    "            \"fare_perception\": 0,\n",
    "            \"in_vehicle_time_matrix\": \"mf0\",\n",
    "            \"impedance_matrix\": \"mf0\",\n",
    "            \"link_fare_attribute_id\": \"@lfare1\",\n",
    "            \"mode\": \"*\",\n",
    "            \"perceived_travel_time_matrix\": \"mf0\",\n",
    "            \"segment_fare_attribute\": \"@sfare1\",\n",
    "            \"wait_time_perception\": 0,\n",
    "            \"wait_time_matrix\": \"mf0\",\n",
    "            \"walk_time_perception_attribute\": \"@walkp1\",\n",
    "            \"walk_time_matrix\": \"mf0\",\n",
    "            \"walk_perceptions\": [\n",
    "                {\n",
    "                    \"filter\": \"i=10000,20000 or j=1...7000,98000\",\n",
    "                    \"walk_perception_value\": 1.8,\n",
    "                },\n",
    "            ],\n",
    "        },\n",
    "    ],\n",
    "    \"congestion_exponent\": \"\",\n",
    "    \"assignment_period\": 0,\n",
    "    \"name_string\": \"\",\n",
    "    \"congested_assignment\": \"\",\n",
    "    \"csvfile\": \"\",\n",
    "    \"origin_distribution_logit_scale\": 0,\n",
    "    \"walk_distribution_logit_scale\": 3,\n",
    "    \"surface_transit_speed\": \"\",\n",
    "    \"walk_all_way_flag\": False,\n",
    "    \"xrow_ttf_range\": \"\",\n",
    "}\n",
    "\n",
    "transit_classes = parameters[\"transit_classes\"]\n",
    "\n",
    "for tc in transit_classes:\n",
    "    walk_time_perception_attribute = tc[\"walk_time_perception_attribute\"]\n",
    "    print(walk_time_perception_attribute)\n",
    "    for wp in tc[\"walk_perceptions\"]:\n",
    "        filter = wp[\"filter\"]\n",
    "        perception_value = wp[\"walk_perception_value\"]\n",
    "        print(perception_value)\n"
   ]
  },
  {
   "cell_type": "code",
   "execution_count": 4,
   "metadata": {},
   "outputs": [
    {
     "name": "stdout",
     "output_type": "stream",
     "text": [
      "True\n"
     ]
    }
   ],
   "source": [
    "scale = 0.1\n",
    "\n",
    "print(str(scale is not False))\n"
   ]
  }
 ],
 "metadata": {
  "interpreter": {
   "hash": "6f7c4d44365b28014734406e4d617c1e1f76ea196def854c7b951a230f6e24f1"
  },
  "kernelspec": {
   "display_name": "Python 3.9.5 64-bit",
   "language": "python",
   "name": "python3"
  },
  "language_info": {
   "codemirror_mode": {
    "name": "ipython",
    "version": 3
   },
   "file_extension": ".py",
   "mimetype": "text/x-python",
   "name": "python",
   "nbconvert_exporter": "python",
   "pygments_lexer": "ipython3",
   "version": "3.9.5"
  },
  "orig_nbformat": 4
 },
 "nbformat": 4,
 "nbformat_minor": 2
}
